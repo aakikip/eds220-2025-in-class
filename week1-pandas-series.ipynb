{
 "cells": [
  {
   "cell_type": "markdown",
   "id": "31f5e3dd-8a0b-4d75-9989-934d0e91d941",
   "metadata": {},
   "source": [
    "# 'pandas'series and data frames\n",
    "\n",
    "Here we learn about the two core objects in the pandas library,\n",
    "1. pandas.Series\n",
    "2. pandas.DataFrame\n",
    "\n",
    "GOAL\n",
    "- to gain familiarity with these two objects\n",
    "- understand their relation to each other\n",
    "- review Python data structures such as dictionaries and lists"
   ]
  },
  {
   "cell_type": "markdown",
   "id": "d798d085-805c-462f-97f1-08a42806872c",
   "metadata": {
    "tags": []
   },
   "source": [
    "## pandas\n",
    "- a Python package to wrangle and analyze tabular data.\n",
    "- built on top of NumPy and has become the core tool for doing data analysis in Python.\n",
    "\n",
    "The standard abbreviation for pandas is pd."
   ]
  },
  {
   "cell_type": "code",
   "execution_count": 1,
   "id": "084c7a8e-95f2-4f8d-9a9c-1e5ba125fa3d",
   "metadata": {
    "tags": []
   },
   "outputs": [],
   "source": [
    "import pandas as pd\n",
    "import numpy as np"
   ]
  },
  {
   "cell_type": "markdown",
   "id": "16af9bc2-3b01-44da-a0f7-5bf9fd50f7e9",
   "metadata": {},
   "source": [
    "### Series\n",
    "\n",
    "The first core object of pandas is the series. A series is a one-dimensional array of indexed data."
   ]
  },
  {
   "cell_type": "code",
   "execution_count": 2,
   "id": "071cd99f-e6fb-4418-8a2f-62ab0ad2daf8",
   "metadata": {
    "tags": []
   },
   "outputs": [
    {
     "name": "stdout",
     "output_type": "stream",
     "text": [
      "<class 'numpy.ndarray'>\n",
      "[-0.39876507 -0.08003487 -0.40943689 -0.27942515] \n",
      "\n",
      "<class 'pandas.core.series.Series'>\n",
      "0   -0.398765\n",
      "1   -0.080035\n",
      "2   -0.409437\n",
      "3   -0.279425\n",
      "dtype: float64\n"
     ]
    }
   ],
   "source": [
    "# A numpy array\n",
    "arr = np.random.randn(4) # random values from std normal distribution\n",
    "print(type(arr))\n",
    "print(arr, \"\\n\")\n",
    "\n",
    "# A pandas series made from the previous array\n",
    "s = pd.Series(arr)\n",
    "print(type(s))\n",
    "print(s)"
   ]
  },
  {
   "cell_type": "markdown",
   "id": "a510a235-7ca4-4954-bc35-4a3126fc34a2",
   "metadata": {},
   "source": [
    "Notice the index is printed as part of the pandas.Series while, although the np.array is indexable, the index is not part of this data structure. Printing the pandas.Series also shows the values and their data type."
   ]
  },
  {
   "cell_type": "markdown",
   "id": "54b91c6e-60b9-4846-9d1e-36c18f10a227",
   "metadata": {},
   "source": [
    "### Creating a pandas.Series\n",
    "\n",
    "s = pd.Series(data, index=index) #basic method to create a pandas.Series\n",
    "\n",
    "The data parameter can be:\n",
    "- a list or NumPy array,\n",
    "- a Python dictionary, or\n",
    "- a single number, boolean (True/False), or string.\n",
    "\n",
    "The index parameter is optional, if we wish to include it, it must be a list of list of indices of the same length as data."
   ]
  },
  {
   "cell_type": "code",
   "execution_count": 3,
   "id": "0e0a22ed-937e-4a74-9514-df6ee3e6ae9c",
   "metadata": {
    "tags": []
   },
   "outputs": [
    {
     "data": {
      "text/plain": [
       "2023    0\n",
       "2024    1\n",
       "2025    2\n",
       "dtype: int64"
      ]
     },
     "execution_count": 3,
     "metadata": {},
     "output_type": "execute_result"
    }
   ],
   "source": [
    "# Let’s create a pandas.Series from a NumPy array\n",
    "# To use this method we need to pass a NumPy array\n",
    "# (or a list of objects that can be converted to NumPy types) as data\n",
    "\n",
    "# A series from a numpy array \n",
    "pd.Series(np.arange(3), index=[2023, 2024, 2025])"
   ]
  },
  {
   "cell_type": "markdown",
   "id": "7b1737bd-25a0-40d7-86c1-837dce774727",
   "metadata": {},
   "source": [
    "### Example: Creating a pandas.Series from a list\n",
    "\n",
    "Create a pandas.Series from a list of strings. The index parameter is optional. If we don’t include index, the default is to make the index equal to [0,...,len(data)-1]."
   ]
  },
  {
   "cell_type": "code",
   "execution_count": 4,
   "id": "3ea3c8e0-e136-40c4-adce-88488914da30",
   "metadata": {
    "tags": []
   },
   "outputs": [
    {
     "data": {
      "text/plain": [
       "0    EDS 220\n",
       "1    EDS 222\n",
       "2    EDS 223\n",
       "3    EDS 242\n",
       "dtype: object"
      ]
     },
     "execution_count": 4,
     "metadata": {},
     "output_type": "execute_result"
    }
   ],
   "source": [
    "# A series from a list of strings with default index\n",
    "pd.Series(['EDS 220', 'EDS 222', 'EDS 223', 'EDS 242'])"
   ]
  },
  {
   "cell_type": "markdown",
   "id": "28953be2-d545-4f12-bbc0-4c0da3de56f6",
   "metadata": {},
   "source": [
    "### Example: Creating a pandas.Series from a dictionary\n",
    "\n",
    "Recall that a dictionary is a set of key-value pairs.\n",
    "If we create a pandas.Series via a dictionary the keys will become the index and the values the corresponding data."
   ]
  },
  {
   "cell_type": "code",
   "execution_count": 5,
   "id": "8319d8ee-98e5-428b-98d1-37028910a49f",
   "metadata": {
    "tags": []
   },
   "outputs": [
    {
     "data": {
      "text/plain": [
       "key_0    2\n",
       "key_1    3\n",
       "key_2    5\n",
       "dtype: object"
      ]
     },
     "execution_count": 5,
     "metadata": {},
     "output_type": "execute_result"
    }
   ],
   "source": [
    "# Construct dictionary\n",
    "d = {'key_0':2, 'key_1':'3', 'key_2':5}\n",
    "\n",
    "# Initialize series using a dictionary\n",
    "pd.Series(d)"
   ]
  },
  {
   "cell_type": "markdown",
   "id": "af05c696-9305-4d89-a828-efcb4cfda206",
   "metadata": {},
   "source": [
    "Notice that in this and the previous example the data type of the values in the series is object. This data type in pandas usually indicates that the series is made up of strings. However, we can see in this example that the object data type can also indicate a mix of strings and numbers."
   ]
  },
  {
   "cell_type": "markdown",
   "id": "e68271a5-c4cc-4293-b8e8-594b62484950",
   "metadata": {},
   "source": [
    "### Example: Creating a pandas.Series from a single value\n",
    "\n",
    "If we only provide a single number, boolean, or string as the data for the series, we need to provide an index.\n",
    "The value will be repeated to match the length of the index. Here, we create a series from a single float number with an index given by a list of strings:"
   ]
  },
  {
   "cell_type": "code",
   "execution_count": 6,
   "id": "1983526a-3076-436b-b330-2ee6ea31b155",
   "metadata": {
    "tags": []
   },
   "outputs": [
    {
     "data": {
      "text/plain": [
       "A    3.0\n",
       "B    3.0\n",
       "C    3.0\n",
       "dtype: float64"
      ]
     },
     "execution_count": 6,
     "metadata": {},
     "output_type": "execute_result"
    }
   ],
   "source": [
    "pd.Series(3.0, index = ['A', 'B', 'C'])"
   ]
  },
  {
   "cell_type": "markdown",
   "id": "34bbc0fd-2ee5-4d5d-a5c6-b65e20146e0a",
   "metadata": {},
   "source": [
    "### Simple operations\n",
    "\n",
    "Arithmetic operations work on series and so most NumPy functions."
   ]
  },
  {
   "cell_type": "code",
   "execution_count": 7,
   "id": "3110e30d-e13b-4e43-892c-ef1a303f8b82",
   "metadata": {
    "tags": []
   },
   "outputs": [
    {
     "name": "stdout",
     "output_type": "stream",
     "text": [
      "Andrea      9.8\n",
      "Beth        7.3\n",
      "Carolina    6.5\n",
      "dtype: float64 \n",
      "\n",
      "Andrea      3.637971e+42\n",
      "Beth        5.052394e+31\n",
      "Carolina    1.694889e+28\n",
      "dtype: float64 \n",
      "\n",
      "Andrea      98\n",
      "Beth        73\n",
      "Carolina    65\n",
      "dtype: int64\n"
     ]
    }
   ],
   "source": [
    "# Define a series\n",
    "s = pd.Series([98,73,65],index=['Andrea', 'Beth', 'Carolina'])\n",
    "\n",
    "# Divide each element in series by 10\n",
    "print(s /10, '\\n')\n",
    "\n",
    "# Take the exponential of each element in series\n",
    "print(np.exp(s), '\\n')\n",
    "\n",
    "# Original series is unchanged\n",
    "print(s)"
   ]
  },
  {
   "cell_type": "code",
   "execution_count": 8,
   "id": "693511b7-b05e-4da7-bdbe-36313c88dd94",
   "metadata": {
    "tags": []
   },
   "outputs": [
    {
     "data": {
      "text/plain": [
       "Andrea       True\n",
       "Beth         True\n",
       "Carolina    False\n",
       "dtype: bool"
      ]
     },
     "execution_count": 8,
     "metadata": {},
     "output_type": "execute_result"
    }
   ],
   "source": [
    "# We can also produce new pandas.Series with True/False values indicating whether the elements in a series satisfy a condition or not:\n",
    "\n",
    "s > 70\n",
    "\n",
    "# This kind of simple conditions on pandas.Series will be key when we are selecting data from data frames."
   ]
  },
  {
   "cell_type": "markdown",
   "id": "ea51226e-328a-4cda-937f-d451b3e67227",
   "metadata": {},
   "source": [
    "### Identifying missing values\n",
    "\n",
    "In pandas we can represent a missing, NULL, or NA value with the float value numpy.nan, which stands for “not a number”. Let’s construct a small series with some NA values represented this way:"
   ]
  },
  {
   "cell_type": "code",
   "execution_count": 9,
   "id": "9d58aff8-0cae-45bd-938c-c2d69f5c464f",
   "metadata": {
    "tags": []
   },
   "outputs": [
    {
     "data": {
      "text/plain": [
       "0    1.0\n",
       "1    2.0\n",
       "2    NaN\n",
       "3    4.0\n",
       "4    NaN\n",
       "dtype: float64"
      ]
     },
     "execution_count": 9,
     "metadata": {},
     "output_type": "execute_result"
    }
   ],
   "source": [
    "# Series with NAs in it\n",
    "s = pd.Series([1, 2, np.nan, 4, np.nan])\n",
    "s"
   ]
  },
  {
   "cell_type": "markdown",
   "id": "e7ce3e1f-d4de-475e-87e8-977ef13eec84",
   "metadata": {},
   "source": [
    "Notice, here the data type is still float64."
   ]
  },
  {
   "cell_type": "markdown",
   "id": "23367dc6-aa61-4da2-9078-62b24f5d29ba",
   "metadata": {},
   "source": [
    "The `hasnans attribute` for a `pandas.Series` returns `True` if there are any NA values in it and false otherwise."
   ]
  },
  {
   "cell_type": "code",
   "execution_count": 10,
   "id": "de7e99b4-6e51-4a33-950f-1c197b754ac1",
   "metadata": {
    "tags": []
   },
   "outputs": [
    {
     "data": {
      "text/plain": [
       "True"
      ]
     },
     "execution_count": 10,
     "metadata": {},
     "output_type": "execute_result"
    }
   ],
   "source": [
    "# Check if series has NAs\n",
    "s.hasnans"
   ]
  },
  {
   "cell_type": "markdown",
   "id": "74a58030-f9da-4ca2-88ac-386b3ef5b0dd",
   "metadata": {},
   "source": [
    "True\n",
    "\n",
    "After detecting there are Na values, we might be intersted in knowing which elements in the series are NAs. We can do this using the `isna method`"
   ]
  },
  {
   "cell_type": "code",
   "execution_count": 11,
   "id": "fa101eba-6fa6-453b-9bce-4108479e38d1",
   "metadata": {
    "tags": []
   },
   "outputs": [
    {
     "data": {
      "text/plain": [
       "0    False\n",
       "1    False\n",
       "2     True\n",
       "3    False\n",
       "4     True\n",
       "dtype: bool"
      ]
     },
     "execution_count": 11,
     "metadata": {},
     "output_type": "execute_result"
    }
   ],
   "source": [
    "s.isna()"
   ]
  },
  {
   "cell_type": "markdown",
   "id": "78d123c5-731b-4b7c-bf70-8014c6f41562",
   "metadata": {},
   "source": [
    "The ouput is a `pandas.Series` of boolean values indicating if an element in the row at the given index is `np.nan` (`True` = is NA) or not (`False` = not NA)."
   ]
  },
  {
   "cell_type": "markdown",
   "id": "3fa591ca-6f88-4526-805d-6b867230db87",
   "metadata": {},
   "source": [
    "#### QUESTION 1\n",
    "\n",
    "##### The integer number -999 is often used to represent missing values.\n",
    "##### Create a pandas.Series named s with four integer values, two of which are -999. \n",
    "#### #The index of this series should be the the letters A through D."
   ]
  },
  {
   "cell_type": "code",
   "execution_count": 12,
   "id": "2980c2d6-41ec-4613-9bba-c9b4a48046a2",
   "metadata": {
    "tags": []
   },
   "outputs": [
    {
     "name": "stdout",
     "output_type": "stream",
     "text": [
      "A     54\n",
      "B   -999\n",
      "C   -999\n",
      "D     76\n",
      "dtype: int64\n",
      "<class 'pandas.core.series.Series'>\n"
     ]
    }
   ],
   "source": [
    "s = pd.Series([54, -999, -999, 76], index=['A', 'B', 'C', 'D'])\n",
    "print(s)\n",
    "print(type(s))"
   ]
  },
  {
   "cell_type": "markdown",
   "id": "7d976945-f28a-4dde-8bf7-4a9756c7d01d",
   "metadata": {},
   "source": [
    "#### QUESTION 2\n",
    "\n",
    "##### In the pandas.Series documentation, look for the method mask().\n",
    "##### Use this method to update the series s so that the -999 values are replaced by NA values.\n",
    "##### HINT: check the first example in the method’s documentation."
   ]
  },
  {
   "cell_type": "code",
   "execution_count": 13,
   "id": "fa9f107b-6d7c-47f2-8df4-2c244b852d2d",
   "metadata": {
    "tags": []
   },
   "outputs": [
    {
     "data": {
      "text/plain": [
       "A    54.0\n",
       "B     NaN\n",
       "C     NaN\n",
       "D    76.0\n",
       "dtype: float64"
      ]
     },
     "execution_count": 13,
     "metadata": {},
     "output_type": "execute_result"
    }
   ],
   "source": [
    "s.mask(s < 0)"
   ]
  },
  {
   "cell_type": "code",
   "execution_count": 22,
   "id": "ff0996a2-a846-481a-a9f7-5e2563e85cc1",
   "metadata": {
    "tags": []
   },
   "outputs": [
    {
     "data": {
      "text/plain": [
       "A    54.0\n",
       "B     NaN\n",
       "C     NaN\n",
       "D    76.0\n",
       "dtype: float64"
      ]
     },
     "execution_count": 22,
     "metadata": {},
     "output_type": "execute_result"
    }
   ],
   "source": [
    "# Mask -999 values in s with default NaN value\n",
    "\n",
    "s = s.mask(s == -999, inplace=True) #inplace will not permanently replace but will only modify\n",
    "s"
   ]
  },
  {
   "cell_type": "markdown",
   "id": "0e686188-716e-491b-8c7c-49b5ab8d123a",
   "metadata": {},
   "source": [
    "## Data frames\n",
    "\n",
    "- The pandas.DataFrame is the most used pandas object.\n",
    "- It represents tabular data and we can think of it as a spreadhseet.\n",
    "- Each column of a pandas.DataFrame is a pandas.Series."
   ]
  },
  {
   "cell_type": "markdown",
   "id": "1ae37621-3d18-4207-be2c-57013b5cd0fd",
   "metadata": {},
   "source": [
    "### Creating a pandas.DataFrame\n",
    "\n",
    "There are many ways of creating a `pandas.DataFrame`. We present one simple one in this section.\n",
    "\n",
    "We already mentioned each column of a `pandas.DataFrame` is a `pandas.Series`.\n",
    "In fact, the `pandas.DataFrame` is a dictionary of `pandas.Series`, with each column name being the key and the column values being the key’s value."
   ]
  },
  {
   "cell_type": "code",
   "execution_count": 14,
   "id": "05259d14-d7a8-43e6-a0e3-1cb50b9fa1e4",
   "metadata": {
    "tags": []
   },
   "outputs": [
    {
     "data": {
      "text/html": [
       "<div>\n",
       "<style scoped>\n",
       "    .dataframe tbody tr th:only-of-type {\n",
       "        vertical-align: middle;\n",
       "    }\n",
       "\n",
       "    .dataframe tbody tr th {\n",
       "        vertical-align: top;\n",
       "    }\n",
       "\n",
       "    .dataframe thead th {\n",
       "        text-align: right;\n",
       "    }\n",
       "</style>\n",
       "<table border=\"1\" class=\"dataframe\">\n",
       "  <thead>\n",
       "    <tr style=\"text-align: right;\">\n",
       "      <th></th>\n",
       "      <th>col_name_1</th>\n",
       "      <th>col_name_2</th>\n",
       "    </tr>\n",
       "  </thead>\n",
       "  <tbody>\n",
       "    <tr>\n",
       "      <th>0</th>\n",
       "      <td>0</td>\n",
       "      <td>3.1</td>\n",
       "    </tr>\n",
       "    <tr>\n",
       "      <th>1</th>\n",
       "      <td>1</td>\n",
       "      <td>3.2</td>\n",
       "    </tr>\n",
       "    <tr>\n",
       "      <th>2</th>\n",
       "      <td>2</td>\n",
       "      <td>3.3</td>\n",
       "    </tr>\n",
       "  </tbody>\n",
       "</table>\n",
       "</div>"
      ],
      "text/plain": [
       "   col_name_1  col_name_2\n",
       "0           0         3.1\n",
       "1           1         3.2\n",
       "2           2         3.3"
      ]
     },
     "execution_count": 14,
     "metadata": {},
     "output_type": "execute_result"
    }
   ],
   "source": [
    "# Creating the pandas.DataFrame\n",
    "\n",
    "# Initialize dictionary with columns' data \n",
    "d = {'col_name_1' : pd.Series(np.arange(3)),\n",
    "     'col_name_2' : pd.Series([3.1, 3.2, 3.3]),\n",
    "     }\n",
    "\n",
    "# Create data frame\n",
    "df = pd.DataFrame(d)\n",
    "df"
   ]
  },
  {
   "cell_type": "code",
   "execution_count": 15,
   "id": "9385c09b-bca0-45f3-b4cc-49110d48fca6",
   "metadata": {
    "tags": []
   },
   "outputs": [
    {
     "data": {
      "text/html": [
       "<div>\n",
       "<style scoped>\n",
       "    .dataframe tbody tr th:only-of-type {\n",
       "        vertical-align: middle;\n",
       "    }\n",
       "\n",
       "    .dataframe tbody tr th {\n",
       "        vertical-align: top;\n",
       "    }\n",
       "\n",
       "    .dataframe thead th {\n",
       "        text-align: right;\n",
       "    }\n",
       "</style>\n",
       "<table border=\"1\" class=\"dataframe\">\n",
       "  <thead>\n",
       "    <tr style=\"text-align: right;\">\n",
       "      <th></th>\n",
       "      <th>col_name_1</th>\n",
       "      <th>col_name_2</th>\n",
       "    </tr>\n",
       "  </thead>\n",
       "  <tbody>\n",
       "    <tr>\n",
       "      <th>a</th>\n",
       "      <td>0</td>\n",
       "      <td>3.1</td>\n",
       "    </tr>\n",
       "    <tr>\n",
       "      <th>b</th>\n",
       "      <td>1</td>\n",
       "      <td>3.2</td>\n",
       "    </tr>\n",
       "    <tr>\n",
       "      <th>c</th>\n",
       "      <td>2</td>\n",
       "      <td>3.3</td>\n",
       "    </tr>\n",
       "  </tbody>\n",
       "</table>\n",
       "</div>"
      ],
      "text/plain": [
       "   col_name_1  col_name_2\n",
       "a           0         3.1\n",
       "b           1         3.2\n",
       "c           2         3.3"
      ]
     },
     "execution_count": 15,
     "metadata": {},
     "output_type": "execute_result"
    }
   ],
   "source": [
    "# Change the index by changing the index attribute in the data frame.\n",
    "\n",
    "# Change index\n",
    "df.index = ['a','b','c']\n",
    "df"
   ]
  },
  {
   "cell_type": "code",
   "execution_count": 16,
   "id": "0fa84a25-d56f-4d2c-bc1f-89f284aa695d",
   "metadata": {
    "tags": []
   },
   "outputs": [
    {
     "data": {
      "text/html": [
       "<div>\n",
       "<style scoped>\n",
       "    .dataframe tbody tr th:only-of-type {\n",
       "        vertical-align: middle;\n",
       "    }\n",
       "\n",
       "    .dataframe tbody tr th {\n",
       "        vertical-align: top;\n",
       "    }\n",
       "\n",
       "    .dataframe thead th {\n",
       "        text-align: right;\n",
       "    }\n",
       "</style>\n",
       "<table border=\"1\" class=\"dataframe\">\n",
       "  <thead>\n",
       "    <tr style=\"text-align: right;\">\n",
       "      <th></th>\n",
       "      <th>A</th>\n",
       "      <th>B</th>\n",
       "    </tr>\n",
       "  </thead>\n",
       "  <tbody>\n",
       "    <tr>\n",
       "      <th>0</th>\n",
       "      <td>0</td>\n",
       "      <td>3.1</td>\n",
       "    </tr>\n",
       "    <tr>\n",
       "      <th>1</th>\n",
       "      <td>1</td>\n",
       "      <td>3.2</td>\n",
       "    </tr>\n",
       "    <tr>\n",
       "      <th>2</th>\n",
       "      <td>2</td>\n",
       "      <td>3.3</td>\n",
       "    </tr>\n",
       "  </tbody>\n",
       "</table>\n",
       "</div>"
      ],
      "text/plain": [
       "   A    B\n",
       "0  0  3.1\n",
       "1  1  3.2\n",
       "2  2  3.3"
      ]
     },
     "execution_count": 16,
     "metadata": {},
     "output_type": "execute_result"
    }
   ],
   "source": [
    "# Change the name of the column\n",
    "\n",
    "df = pd.DataFrame({'A': [0, 1, 2], 'B':[3.1, 3.2, 3.3]})\n",
    "df"
   ]
  },
  {
   "cell_type": "code",
   "execution_count": null,
   "id": "ce12b743-6647-42f3-bff5-5cff4d91ddf1",
   "metadata": {},
   "outputs": [],
   "source": []
  }
 ],
 "metadata": {
  "kernelspec": {
   "display_name": "EDS220",
   "language": "python",
   "name": "eds220-env"
  },
  "language_info": {
   "codemirror_mode": {
    "name": "ipython",
    "version": 3
   },
   "file_extension": ".py",
   "mimetype": "text/x-python",
   "name": "python",
   "nbconvert_exporter": "python",
   "pygments_lexer": "ipython3",
   "version": "3.11.4"
  }
 },
 "nbformat": 4,
 "nbformat_minor": 5
}
