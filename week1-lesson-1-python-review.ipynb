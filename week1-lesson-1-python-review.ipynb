{
 "cells": [
  {
   "cell_type": "markdown",
   "id": "bc2566a4-5358-4ac0-9048-50cdc1fac22f",
   "metadata": {
    "jupyter": {
     "source_hidden": true
    },
    "tags": []
   },
   "source": [
    "# Python Review\n",
    "\n",
    "Goals\n",
    "- recall basic Python vocabulary\n",
    "\n",
    "## Libraries and packages\n",
    "\n",
    "**library**: a colletion of code that we can use to perform specific tasks in our programs.\n",
    "\n",
    "**NumPy**:\n",
    "- core library for numerical computing in Python\n",
    "- many other libraries use NumPy arrays as building blocks\n",
    "- computations o NumPy are optimized for speed and memory usage\n",
    "\n",
    "Let's import NumPy with **standard abbreviation**"
   ]
  },
  {
   "cell_type": "code",
   "execution_count": 1,
   "id": "6d957826-ef07-4824-bfa0-449f51994d63",
   "metadata": {
    "tags": []
   },
   "outputs": [],
   "source": [
    "import numpy as np"
   ]
  },
  {
   "cell_type": "markdown",
   "id": "debf0332-f1f5-43fe-84fd-ab8dc3db3cd5",
   "metadata": {},
   "source": [
    "## Variables\n",
    "\n",
    "**variables**: a name we assign to a particular object in Python\n",
    "\n",
    "Example:"
   ]
  },
  {
   "cell_type": "code",
   "execution_count": 2,
   "id": "7919d3ff-441f-4e7a-bfcf-97b8f3021158",
   "metadata": {
    "tags": []
   },
   "outputs": [],
   "source": [
    "# Assign a small array to a variable a\n",
    "a = np.array([[1,1,2], [3,5,8]])"
   ]
  },
  {
   "cell_type": "code",
   "execution_count": 3,
   "id": "30963c59-6d06-4d0d-8dbe-e517c182cd8e",
   "metadata": {
    "tags": []
   },
   "outputs": [
    {
     "data": {
      "text/plain": [
       "array([[1, 1, 2],\n",
       "       [3, 5, 8]])"
      ]
     },
     "execution_count": 3,
     "metadata": {},
     "output_type": "execute_result"
    }
   ],
   "source": [
    "# Run cell with the variables name to show value\n",
    "a"
   ]
  },
  {
   "cell_type": "code",
   "execution_count": 4,
   "id": "7a0f6ef6-3a1e-4f50-a5b5-81ea17810049",
   "metadata": {
    "tags": []
   },
   "outputs": [
    {
     "name": "stdout",
     "output_type": "stream",
     "text": [
      "[[1 1 2]\n",
      " [3 5 8]]\n"
     ]
    }
   ],
   "source": [
    "# Use `print` function to print the value\n",
    "print(a)"
   ]
  },
  {
   "cell_type": "markdown",
   "id": "03117d5a-b112-4b32-8628-f970f071eb73",
   "metadata": {},
   "source": [
    "## Objects\n",
    "\n",
    "**object**: (informally speaking) is a bundle of *properties* and *actions* about something specific.\n",
    "\n",
    "Example: \n",
    "\n",
    "Object: data frame\n",
    "\n",
    "Properties: number rows, names of the columns, date created\n",
    "\n",
    "Actions: selecting a specific row, adding a new column\n",
    "\n",
    "A variable is the name we give a specific object, and the same object can be refrenced by different variables.\n",
    "\n",
    "In practice, we can often use variable ad object interchangeably."
   ]
  },
  {
   "cell_type": "markdown",
   "id": "fd61d6fc-6078-405f-bdd6-a11fabeb9e5f",
   "metadata": {},
   "source": [
    "## Types\n",
    "\n",
    "Every object in Python has a **type**. The type tells what kind of object it is.\n",
    "\n",
    "We can also call the type of an object, the class of an object, so class and type both mean what kind of object we have."
   ]
  },
  {
   "cell_type": "code",
   "execution_count": 5,
   "id": "3c00a4bc-d667-4928-a15e-fad0583351c2",
   "metadata": {
    "tags": []
   },
   "outputs": [
    {
     "name": "stdout",
     "output_type": "stream",
     "text": [
      "[[1 1 2]\n",
      " [3 5 8]]\n"
     ]
    },
    {
     "data": {
      "text/plain": [
       "numpy.ndarray"
      ]
     },
     "execution_count": 5,
     "metadata": {},
     "output_type": "execute_result"
    }
   ],
   "source": [
    "print(a) \n",
    "\n",
    "# Check the type/class of a variable/object by using `type` function\n",
    "type(a)"
   ]
  },
  {
   "cell_type": "code",
   "execution_count": 6,
   "id": "5cdc6550-7f65-4e72-a347-f79052aaeddd",
   "metadata": {
    "tags": []
   },
   "outputs": [
    {
     "name": "stdout",
     "output_type": "stream",
     "text": [
      "1\n"
     ]
    },
    {
     "data": {
      "text/plain": [
       "numpy.int64"
      ]
     },
     "execution_count": 6,
     "metadata": {},
     "output_type": "execute_result"
    }
   ],
   "source": [
    "print(a[0, 0])\n",
    "\n",
    "# Check the type on an entry on the array by indexing\n",
    "type(a[0, 0])"
   ]
  },
  {
   "cell_type": "markdown",
   "id": "90f985d1-e8e9-49a1-b90b-81d8e5efbc88",
   "metadata": {
    "tags": []
   },
   "source": [
    "Notice that `type(a[0,0])` is a `numpy.int64` and not just the standard Python integer type.\n",
    "This is telling us that 1 ia an integer stored as 64-bit number."
   ]
  },
  {
   "cell_type": "code",
   "execution_count": 8,
   "id": "a90a5d6c-3231-4609-84bc-165d0f45bebd",
   "metadata": {
    "tags": []
   },
   "outputs": [
    {
     "name": "stdout",
     "output_type": "stream",
     "text": [
      "5\n"
     ]
    }
   ],
   "source": [
    "print(a[1, 1])"
   ]
  },
  {
   "cell_type": "markdown",
   "id": "c2f7ece5-7e14-4852-8220-8a758ed8618f",
   "metadata": {},
   "source": [
    "## Functions\n",
    "\n",
    "`print` was our first example of a Python **function**.\n",
    "\n",
    "Functions take in a set of **arguments** separated by commas, and use those arguments to create an output.\n",
    "There are several built-in funcions in Python, most of them are for interacting with the Python basic data types such as int (integers), float (decimal numbers), str (strings), and bool (boolean values)."
   ]
  },
  {
   "cell_type": "code",
   "execution_count": 9,
   "id": "6bde9e50-8cfe-4427-98f3-31c2d149b447",
   "metadata": {
    "tags": []
   },
   "outputs": [
    {
     "data": {
      "text/plain": [
       "\u001b[0;31mSignature:\u001b[0m \u001b[0mprint\u001b[0m\u001b[0;34m(\u001b[0m\u001b[0;34m*\u001b[0m\u001b[0margs\u001b[0m\u001b[0;34m,\u001b[0m \u001b[0msep\u001b[0m\u001b[0;34m=\u001b[0m\u001b[0;34m' '\u001b[0m\u001b[0;34m,\u001b[0m \u001b[0mend\u001b[0m\u001b[0;34m=\u001b[0m\u001b[0;34m'\\n'\u001b[0m\u001b[0;34m,\u001b[0m \u001b[0mfile\u001b[0m\u001b[0;34m=\u001b[0m\u001b[0;32mNone\u001b[0m\u001b[0;34m,\u001b[0m \u001b[0mflush\u001b[0m\u001b[0;34m=\u001b[0m\u001b[0;32mFalse\u001b[0m\u001b[0;34m)\u001b[0m\u001b[0;34m\u001b[0m\u001b[0;34m\u001b[0m\u001b[0m\n",
       "\u001b[0;31mDocstring:\u001b[0m\n",
       "Prints the values to a stream, or to sys.stdout by default.\n",
       "\n",
       "sep\n",
       "  string inserted between values, default a space.\n",
       "end\n",
       "  string appended after the last value, default a newline.\n",
       "file\n",
       "  a file-like object (stream); defaults to the current sys.stdout.\n",
       "flush\n",
       "  whether to forcibly flush the stream.\n",
       "\u001b[0;31mType:\u001b[0m      builtin_function_or_method"
      ]
     },
     "metadata": {},
     "output_type": "display_data"
    }
   ],
   "source": [
    "?print"
   ]
  },
  {
   "cell_type": "markdown",
   "id": "c3e1a269-be51-45da-8297-b88d0681f4b8",
   "metadata": {},
   "source": [
    "This information is a **docstring**.\n",
    "\n",
    "A function has two type of arguments:\n",
    "\n",
    "- **non-optional argument**: arguments **you** need to specify for the function to do something\n",
    "\n",
    "- - **optional argument**: arguments that are pre-filled with a default value by the function, but you can override them. Optional arguments appear inside the parenthesis () in the form `optional_argument = default_value.`"
   ]
  },
  {
   "cell_type": "code",
   "execution_count": 10,
   "id": "227fc12c-a133-4636-b7c7-58804123b1e4",
   "metadata": {
    "tags": []
   },
   "outputs": [
    {
     "name": "stdout",
     "output_type": "stream",
     "text": [
      "changing the default end argument :)"
     ]
    }
   ],
   "source": [
    "print('changing the default end argument', end=' :)')"
   ]
  },
  {
   "cell_type": "markdown",
   "id": "25f20b8a-b471-4f09-93eb-5b732231754c",
   "metadata": {
    "tags": []
   },
   "source": [
    "## Attributes and methods\n",
    "\n",
    "An object in Python has attributes and methods.\n",
    "\n",
    "- **attribute**: a property of the object, some piece of information about it\n",
    "- **method**: a procedure associated with an object, so it is an action where the main ingredient is the object\n",
    "\n",
    "\n",
    "#### Check in\n",
    "FISH\n",
    "- Attributes: length, color, species\n",
    "- Method: die(), swim(), bite()\n",
    "\n",
    "**Example**\n",
    "Attributes for `numpy.arrays`\n",
    "\n",
    "We can access a variable's attributes and methds by adding a period `.` at the end of the variable's name.\n",
    "\n",
    "`variable.method()` or `variable.attribute`"
   ]
  },
  {
   "cell_type": "code",
   "execution_count": 12,
   "id": "334995ae-525e-4392-ae19-a84c884523fe",
   "metadata": {
    "tags": []
   },
   "outputs": [
    {
     "data": {
      "text/plain": [
       "(2, 3)"
      ]
     },
     "execution_count": 12,
     "metadata": {},
     "output_type": "execute_result"
    }
   ],
   "source": [
    "a.shape"
   ]
  },
  {
   "cell_type": "code",
   "execution_count": 13,
   "id": "a1375800-e64a-46bb-ab82-47b3048fd067",
   "metadata": {
    "tags": []
   },
   "outputs": [
    {
     "data": {
      "text/plain": [
       "tuple"
      ]
     },
     "execution_count": 13,
     "metadata": {},
     "output_type": "execute_result"
    }
   ],
   "source": [
    "type(a.shape)"
   ]
  },
  {
   "cell_type": "code",
   "execution_count": 14,
   "id": "d7805320-0215-4f9d-b59e-25fc92a9547e",
   "metadata": {
    "tags": []
   },
   "outputs": [
    {
     "data": {
      "text/plain": [
       "array([[1, 1, 2],\n",
       "       [3, 5, 8]])"
      ]
     },
     "execution_count": 14,
     "metadata": {},
     "output_type": "execute_result"
    }
   ],
   "source": [
    "a"
   ]
  },
  {
   "cell_type": "code",
   "execution_count": 15,
   "id": "c477304c-ac8c-48ee-a9ab-897dda772b66",
   "metadata": {
    "tags": []
   },
   "outputs": [
    {
     "data": {
      "text/plain": [
       "array([1, 1, 2])"
      ]
     },
     "execution_count": 15,
     "metadata": {},
     "output_type": "execute_result"
    }
   ],
   "source": [
    "# Methods examples\n",
    "# min() returns the minimum value along a specified axis\n",
    "a.min(axis=0)"
   ]
  },
  {
   "cell_type": "markdown",
   "id": "8570dc86-4195-4b98-9acd-4455c7ab4e47",
   "metadata": {},
   "source": [
    "## Check-in\n",
    "\n",
    "We can also call the `min` method without any parameters:"
   ]
  },
  {
   "cell_type": "code",
   "execution_count": 17,
   "id": "9915d45d-b673-403e-b8c7-9b7f1dcde46e",
   "metadata": {
    "tags": []
   },
   "outputs": [
    {
     "data": {
      "text/plain": [
       "1"
      ]
     },
     "execution_count": 17,
     "metadata": {},
     "output_type": "execute_result"
    }
   ],
   "source": [
    "a.min()"
   ]
  },
  {
   "cell_type": "markdown",
   "id": "14f5030b-1b19-4c99-8930-1bf6bb21519a",
   "metadata": {},
   "source": [
    "#### Remember: methods are functions associated with an object"
   ]
  },
  {
   "cell_type": "code",
   "execution_count": 18,
   "id": "3f2f19bf-af7b-42e7-84d3-a03f15e35447",
   "metadata": {
    "tags": []
   },
   "outputs": [
    {
     "data": {
      "text/plain": [
       "builtin_function_or_method"
      ]
     },
     "execution_count": 18,
     "metadata": {},
     "output_type": "execute_result"
    }
   ],
   "source": [
    "type(a.min)"
   ]
  },
  {
   "cell_type": "markdown",
   "id": "c96b8b99-f057-4043-9ce3-77c4e8ffeec8",
   "metadata": {
    "tags": []
   },
   "source": [
    "## Exercise\n",
    "\n",
    "1. Read the `print` function help. What is the **type** of the argument `sep`? Is this an optional or non-optional argument? Why?\n",
    "\n",
    "2. Create two new variables, one with the integer value 77 and another one with the string 99.\n",
    "\n",
    "3. Use your variables to print `77%99%77` by changing the vaules of one of the optional arguments in `print`."
   ]
  },
  {
   "cell_type": "code",
   "execution_count": 21,
   "id": "644c91d0-120f-428c-a070-12ad7a0d48a0",
   "metadata": {
    "tags": []
   },
   "outputs": [
    {
     "name": "stdout",
     "output_type": "stream",
     "text": [
      "77%99%77\n"
     ]
    }
   ],
   "source": [
    "# Answer 1\n",
    "# optional argument\n",
    "# sep\n",
    "  # string inserted between values, default a space\n",
    "    # type is string type\n",
    "\n",
    "# Answer 2\n",
    "a = 77\n",
    "b = '99'\n",
    "\n",
    "# Answer 3\n",
    "print(a,b,a, sep='%')"
   ]
  },
  {
   "cell_type": "code",
   "execution_count": null,
   "id": "3bb89de3-d1f8-4bdb-bac0-27a559d03a60",
   "metadata": {},
   "outputs": [],
   "source": []
  }
 ],
 "metadata": {
  "kernelspec": {
   "display_name": "EDS220",
   "language": "python",
   "name": "eds220-env"
  },
  "language_info": {
   "codemirror_mode": {
    "name": "ipython",
    "version": 3
   },
   "file_extension": ".py",
   "mimetype": "text/x-python",
   "name": "python",
   "nbconvert_exporter": "python",
   "pygments_lexer": "ipython3",
   "version": "3.11.4"
  }
 },
 "nbformat": 4,
 "nbformat_minor": 5
}
