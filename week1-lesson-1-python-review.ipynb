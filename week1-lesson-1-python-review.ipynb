{
 "cells": [
  {
   "cell_type": "markdown",
   "id": "bc2566a4-5358-4ac0-9048-50cdc1fac22f",
   "metadata": {},
   "source": [
    "# Python Review\n",
    "\n",
    "Goals\n",
    "- recall basic Python vocabulary\n",
    "\n",
    "## Libraries and packages\n",
    "\n",
    "**library**: a colletion of code that we can use to perform specific tasks in our programs.\n",
    "\n",
    "**NumPy**:\n",
    "- core library for numerical computing in Python\n",
    "- many other libraries use NumPy arrays as building blocks\n",
    "- computations o NumPy are optimized for speed and memory usage\n",
    "\n",
    "Let's import NumPy with **standard abbreviation**"
   ]
  },
  {
   "cell_type": "code",
   "execution_count": 1,
   "id": "6d957826-ef07-4824-bfa0-449f51994d63",
   "metadata": {
    "tags": []
   },
   "outputs": [],
   "source": [
    "import numpy as np"
   ]
  },
  {
   "cell_type": "markdown",
   "id": "debf0332-f1f5-43fe-84fd-ab8dc3db3cd5",
   "metadata": {},
   "source": [
    "## Variables\n",
    "\n",
    "**variables**: a name we assign to a particular object in Python\n",
    "\n",
    "Example:"
   ]
  },
  {
   "cell_type": "code",
   "execution_count": 4,
   "id": "7919d3ff-441f-4e7a-bfcf-97b8f3021158",
   "metadata": {
    "tags": []
   },
   "outputs": [],
   "source": [
    "# Assign a small array to a variable a\n",
    "a = np.array([[1,1,2], [3,5,8]])"
   ]
  },
  {
   "cell_type": "code",
   "execution_count": 5,
   "id": "30963c59-6d06-4d0d-8dbe-e517c182cd8e",
   "metadata": {
    "tags": []
   },
   "outputs": [
    {
     "data": {
      "text/plain": [
       "array([[1, 1, 2],\n",
       "       [3, 5, 8]])"
      ]
     },
     "execution_count": 5,
     "metadata": {},
     "output_type": "execute_result"
    }
   ],
   "source": [
    "# Run cell with the variables name to show value\n",
    "a"
   ]
  },
  {
   "cell_type": "code",
   "execution_count": 6,
   "id": "7a0f6ef6-3a1e-4f50-a5b5-81ea17810049",
   "metadata": {
    "tags": []
   },
   "outputs": [
    {
     "name": "stdout",
     "output_type": "stream",
     "text": [
      "[[1 1 2]\n",
      " [3 5 8]]\n"
     ]
    }
   ],
   "source": [
    "# Use `print` function to print the value\n",
    "print(a)"
   ]
  },
  {
   "cell_type": "markdown",
   "id": "03117d5a-b112-4b32-8628-f970f071eb73",
   "metadata": {},
   "source": [
    "## Objects\n",
    "\n",
    "**object**: (informally speaking) is a bundle of *properties* and *actions* about something specific.\n",
    "\n",
    "Example: \n",
    "\n",
    "Object: data frame\n",
    "\n",
    "Properties: number rows, names of the columns, date created\n",
    "\n",
    "Actions: selecting a specific row, adding a new column\n",
    "\n",
    "A variable is the name we give a specific object, and the same object can be refrenced by different variables.\n",
    "\n",
    "In practice, we can often use variable ad object interchangeably."
   ]
  }
 ],
 "metadata": {
  "kernelspec": {
   "display_name": "EDS220",
   "language": "python",
   "name": "eds220-env"
  },
  "language_info": {
   "codemirror_mode": {
    "name": "ipython",
    "version": 3
   },
   "file_extension": ".py",
   "mimetype": "text/x-python",
   "name": "python",
   "nbconvert_exporter": "python",
   "pygments_lexer": "ipython3",
   "version": "3.11.4"
  }
 },
 "nbformat": 4,
 "nbformat_minor": 5
}
